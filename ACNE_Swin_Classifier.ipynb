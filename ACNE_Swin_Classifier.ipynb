{
  "cells": [
    {
      "cell_type": "code",
      "source": [
        "'''\n",
        "파이토치 쿠다설정\n",
        "https://blog.naver.com/me_a_me/223570004477\n",
        "\n",
        "python = 3.11.11\n",
        "torch = 2.6.0\n",
        "cuda = 12.4\n",
        "cudnn = 9.1.0.70\n",
        "\n",
        "pip3 install torch torchvision torchaudio --index-url https://download.pytorch.org/whl/cu124\n",
        "'''"
      ],
      "metadata": {
        "id": "kJ8nN8TpXuUk",
        "colab": {
          "base_uri": "https://localhost:8080/",
          "height": 54
        },
        "outputId": "a08af7ab-9929-41d2-bac2-6deffa829d72"
      },
      "execution_count": null,
      "outputs": [
        {
          "output_type": "execute_result",
          "data": {
            "text/plain": [
              "'\\n파이토치 쿠다설정\\nhttps://blog.naver.com/me_a_me/223570004477\\n\\npython = 3.11.11\\ntorch = 2.6.0\\ncuda = 12.4\\ncudnn = 9.1.0.70\\n\\npip3 install torch torchvision torchaudio --index-url https://download.pytorch.org/whl/cu124\\n'"
            ],
            "application/vnd.google.colaboratory.intrinsic+json": {
              "type": "string"
            }
          },
          "metadata": {},
          "execution_count": 1
        }
      ]
    },
    {
      "cell_type": "code",
      "execution_count": null,
      "metadata": {
        "colab": {
          "base_uri": "https://localhost:8080/"
        },
        "id": "59Y15zUTSM4j",
        "outputId": "acb13709-088a-46e0-9067-5c6133ace882"
      },
      "outputs": [
        {
          "output_type": "stream",
          "name": "stdout",
          "text": [
            "Mounted at /content/drive\n"
          ]
        }
      ],
      "source": [
        "from google.colab import drive\n",
        "drive.mount('/content/drive')\n",
        "\n",
        "import os\n",
        "\n",
        "path = '/content/drive/My Drive/AI Project I'\n",
        "\n",
        "# 데이터 파일 경로 설정\n",
        "file_path = os.path.join(path)  # 예시 파일 경로"
      ]
    },
    {
      "cell_type": "code",
      "execution_count": null,
      "metadata": {
        "id": "jQx0uyfmStMH",
        "colab": {
          "base_uri": "https://localhost:8080/"
        },
        "outputId": "a65f48a7-f8a2-49b3-dad9-02e59b2862df"
      },
      "outputs": [
        {
          "output_type": "stream",
          "name": "stderr",
          "text": [
            "/usr/local/lib/python3.11/dist-packages/albumentations/__init__.py:28: UserWarning: A new version of Albumentations is available: '2.0.8' (you have '2.0.7'). Upgrade using: pip install -U albumentations. To disable automatic update checks, set the environment variable NO_ALBUMENTATIONS_UPDATE to 1.\n",
            "  check_for_updates()\n"
          ]
        }
      ],
      "source": [
        "import os\n",
        "import io\n",
        "import timm\n",
        "import cv2\n",
        "import matplotlib.pyplot as plt\n",
        "\n",
        "from PIL import Image\n",
        "from tqdm.auto import tqdm  # Progress bars\n",
        "from PIL import ImageFile\n",
        "\n",
        "import numpy as np\n",
        "import pandas as pd\n",
        "import matplotlib.pyplot as plt\n",
        "import matplotlib.image as mpimg\n",
        "from collections import Counter\n",
        "\n",
        "\n",
        "import torch\n",
        "import torch.nn as nn\n",
        "import torchvision.transforms as transforms\n",
        "import torchvision.datasets as datasets\n",
        "from torchvision.datasets import ImageFolder\n",
        "\n",
        "import torch.optim as optim\n",
        "from torch.utils.data import Dataset, DataLoader\n",
        "from torch.utils.data import Subset, random_split\n",
        "\n",
        "import albumentations as A\n",
        "from albumentations.pytorch import ToTensorV2\n",
        "\n",
        "import random\n",
        "import torch\n",
        "import numpy as np # 혹시 numpy를 사용하신다면 함께 시드를 고정해야 합니다.\n",
        "import os\n",
        "\n",
        "# 모든 시드(seed)를 설정하는 함수\n",
        "def set_all_seeds(seed):\n",
        "    random.seed(seed) # Python의 기본 random 모듈 시드 고정\n",
        "    np.random.seed(seed) # NumPy 시드 고정 (사용하지 않으시면 생략 가능)\n",
        "    torch.manual_seed(seed) # PyTorch CPU 연산 시드 고정\n",
        "    if torch.cuda.is_available():\n",
        "        torch.cuda.manual_seed_all(seed) # PyTorch 모든 GPU 연산 시드 고정\n",
        "        # cuDNN의 비결정적 동작 방지: 핵심!\n",
        "        torch.backends.cudnn.deterministic = True\n",
        "        torch.backends.cudnn.benchmark = False # 보통 deterministic과 함께 False로 설정\n",
        "    # Python hash seed 고정 (딕셔너리, 해시 테이블 등에 영향을 줄 수 있습니다)\n",
        "    os.environ['PYTHONHASHSEED'] = str(seed)\n",
        "\n",
        "# 시드 설정 함수 호출\n",
        "set_all_seeds(42)\n",
        "\n",
        "# 이후 기존 코드 계속...\n",
        "ImageFile.LOAD_TRUNCATED_IMAGES = True"
      ]
    },
    {
      "cell_type": "code",
      "execution_count": null,
      "metadata": {
        "id": "4CBLQtd_SvSM",
        "colab": {
          "base_uri": "https://localhost:8080/"
        },
        "outputId": "e5ea176f-9e0f-4d38-b4dc-93fe69571add"
      },
      "outputs": [
        {
          "output_type": "stream",
          "name": "stdout",
          "text": [
            "train 이미지 파일 수: 7830\n",
            "valid 이미지 파일 수: 632\n",
            "test 이미지 파일 수: 216\n",
            "총 이미지 파일 수: 8678\n"
          ]
        }
      ],
      "source": [
        "import os\n",
        "\n",
        "dataset_base_path = path\n",
        "dataset_path_train = os.path.join(dataset_base_path, 'train')\n",
        "dataset_path_valid = os.path.join(dataset_base_path, 'valid')\n",
        "dataset_path_test = os.path.join(dataset_base_path, 'test')\n",
        "\n",
        "csv_path_train = os.path.join(dataset_base_path, 'train/_classes.csv')\n",
        "csv_path_valid = os.path.join(dataset_base_path, 'valid/_classes.csv')\n",
        "csv_path_test = os.path.join(dataset_base_path, 'test/_classes.csv')\n",
        "\n",
        "# 경로에서 이미지 파일 목록 가져오기\n",
        "image_files_train = [f for f in os.listdir(dataset_path_train) if f.endswith(('.jpg', '.png'))]\n",
        "image_files_valid = [f for f in os.listdir(dataset_path_valid) if f.endswith(('.jpg', '.png'))]\n",
        "image_files_test = [f for f in os.listdir(dataset_path_test) if f.endswith(('.jpg', '.png'))]\n",
        "\n",
        "print(f\"train 이미지 파일 수: {len(image_files_train)}\")\n",
        "print(f\"valid 이미지 파일 수: {len(image_files_valid)}\")\n",
        "print(f\"test 이미지 파일 수: {len(image_files_test)}\")\n",
        "\n",
        "# 목록 합치기\n",
        "image_files = image_files_train + image_files_valid + image_files_test\n",
        "\n",
        "print(f\"총 이미지 파일 수: {len(image_files)}\")\n",
        "\n",
        "# 이후 코드는 image_files를 사용하여 진행\n",
        "# ..."
      ]
    },
    {
      "cell_type": "code",
      "execution_count": null,
      "metadata": {
        "id": "pC7R4mqXr6ex"
      },
      "outputs": [],
      "source": [
        "#Dataset transformations are specified here\n",
        "\n",
        "IMG_SIZE = 224  # Swin Transformer input size\n",
        "\n",
        "IMG_SIZE = 224  # Swin Transformer input size\n",
        "\n",
        "train_transform = A.Compose([\n",
        "    A.Resize(IMG_SIZE, IMG_SIZE), # 크기변경\n",
        "    A.HorizontalFlip(p=0.5), # 좌우 뒤집기\n",
        "    # A.RandomBrightnessContrast(p=0.2), # 밝기와 대비 변경\n",
        "    # Change the normalization parameters to ImageNet mean and std\n",
        "    A.Normalize(mean=(0.485, 0.456, 0.406), std=(0.229, 0.224, 0.225)), # 정규화\n",
        "    ToTensorV2(),\n",
        "])\n",
        "\n",
        "test_transform = A.Compose([\n",
        "    A.Resize(IMG_SIZE, IMG_SIZE),\n",
        "    # Change the normalization parameters to ImageNet mean and std\n",
        "    A.Normalize(mean=(0.485, 0.456, 0.406), std=(0.229, 0.224, 0.225)),\n",
        "    ToTensorV2(),\n",
        "])"
      ]
    },
    {
      "cell_type": "code",
      "execution_count": null,
      "metadata": {
        "id": "KexxE7kGr_QS"
      },
      "outputs": [],
      "source": [
        "class CustomDataset(Dataset):\n",
        "    def __init__(self, csv_file, root_dir, transform=None):\n",
        "        self.annotations = pd.read_csv(csv_file)\n",
        "        self.root_dir = root_dir\n",
        "        self.transform = transform\n",
        "        # 클래스 이름 목록을 정의합니다. CSV 파일에 맞게 수정하세요.\n",
        "        self.classes = ['Pimples', 'blackhead', 'conglobata', 'crystanlline', 'cystic', 'folliculitis', 'keloid', 'milium', 'papular', 'purulent'] # Replace with your actual class names\n",
        "\n",
        "    def __len__(self):\n",
        "        return len(self.annotations)\n",
        "\n",
        "    def __getitem__(self, idx):\n",
        "        if torch.is_tensor(idx):\n",
        "            idx = idx.tolist()\n",
        "\n",
        "        img_name = os.path.join(self.root_dir, self.annotations.iloc[idx, 0]) # Adjust column index for image file name\n",
        "        image = Image.open(img_name).convert('RGB')\n",
        "        image = np.array(image)\n",
        "\n",
        "        # 멀티 라벨 추출 및 처리\n",
        "        # CSV 파일 구조에 따라 이 부분을 수정해야 합니다.\n",
        "        # 예: 라벨이 여러 컬럼에 걸쳐 있다면 해당 컬럼들을 선택합니다.\n",
        "        # Convert label columns to float before creating the tensor\n",
        "        labels_data = self.annotations.iloc[idx, 1:].values.astype(np.float32)\n",
        "        labels = torch.tensor(labels_data, dtype=torch.float32)\n",
        "\n",
        "        if self.transform:\n",
        "            image = self.transform(image=image)[\"image\"]\n",
        "\n",
        "        return image, labels"
      ]
    },
    {
      "cell_type": "code",
      "execution_count": null,
      "metadata": {
        "id": "8Z9qKrlgsFLS",
        "colab": {
          "base_uri": "https://localhost:8080/"
        },
        "outputId": "34e880ab-6b23-4500-806a-5b51cead0cec"
      },
      "outputs": [
        {
          "output_type": "stream",
          "name": "stdout",
          "text": [
            "7830\n",
            "632\n",
            "216\n"
          ]
        }
      ],
      "source": [
        "train_dataset = CustomDataset(csv_file=csv_path_train, root_dir=dataset_path_train, transform=train_transform)\n",
        "valid_dataset = CustomDataset(csv_file=csv_path_valid, root_dir=dataset_path_valid, transform=train_transform)\n",
        "test_dataset = CustomDataset(csv_file=csv_path_test, root_dir=dataset_path_test, transform=train_transform)\n",
        "\n",
        "print(len(train_dataset))\n",
        "print(len(valid_dataset))\n",
        "print(len(test_dataset))"
      ]
    },
    {
      "cell_type": "code",
      "execution_count": null,
      "metadata": {
        "id": "hrc9UWxBuBd2",
        "colab": {
          "base_uri": "https://localhost:8080/"
        },
        "outputId": "69a2d5b7-71e8-440e-a2f6-c932c6218c64"
      },
      "outputs": [
        {
          "output_type": "stream",
          "name": "stdout",
          "text": [
            "Checking train_dataset samples:\n",
            "Sample 0: Image shape - torch.Size([3, 224, 224]), Labels - tensor([1., 1., 0., 0., 1., 0., 0., 0., 1., 1.])\n",
            "Sample 1: Image shape - torch.Size([3, 224, 224]), Labels - tensor([1., 0., 0., 0., 0., 0., 0., 0., 0., 0.])\n",
            "Sample 2: Image shape - torch.Size([3, 224, 224]), Labels - tensor([1., 1., 0., 0., 0., 0., 0., 0., 1., 1.])\n",
            "Sample 3: Image shape - torch.Size([3, 224, 224]), Labels - tensor([1., 0., 0., 0., 0., 0., 0., 0., 1., 1.])\n",
            "Sample 4: Image shape - torch.Size([3, 224, 224]), Labels - tensor([1., 1., 0., 0., 0., 0., 0., 0., 1., 1.])\n",
            "\n",
            "Checking valid_dataset samples:\n",
            "Sample 0: Image shape - torch.Size([3, 224, 224]), Labels - tensor([1., 1., 0., 0., 0., 0., 0., 0., 1., 0.])\n",
            "Sample 1: Image shape - torch.Size([3, 224, 224]), Labels - tensor([1., 0., 0., 0., 1., 0., 1., 0., 1., 1.])\n",
            "Sample 2: Image shape - torch.Size([3, 224, 224]), Labels - tensor([1., 0., 0., 0., 0., 0., 0., 0., 1., 1.])\n",
            "Sample 3: Image shape - torch.Size([3, 224, 224]), Labels - tensor([1., 0., 0., 0., 0., 0., 0., 0., 1., 1.])\n",
            "Sample 4: Image shape - torch.Size([3, 224, 224]), Labels - tensor([1., 0., 0., 0., 0., 0., 0., 0., 1., 0.])\n",
            "\n",
            "Checking test_dataset samples:\n",
            "Sample 0: Image shape - torch.Size([3, 224, 224]), Labels - tensor([1., 0., 0., 0., 0., 0., 0., 0., 0., 0.])\n",
            "Sample 1: Image shape - torch.Size([3, 224, 224]), Labels - tensor([1., 1., 0., 0., 0., 0., 1., 0., 1., 1.])\n",
            "Sample 2: Image shape - torch.Size([3, 224, 224]), Labels - tensor([1., 0., 0., 0., 0., 0., 0., 0., 0., 0.])\n",
            "Sample 3: Image shape - torch.Size([3, 224, 224]), Labels - tensor([1., 1., 0., 0., 1., 0., 0., 1., 0., 1.])\n",
            "Sample 4: Image shape - torch.Size([3, 224, 224]), Labels - tensor([1., 1., 0., 0., 0., 0., 0., 0., 0., 0.])\n"
          ]
        }
      ],
      "source": [
        "# 각 데이터셋에서 몇 개의 샘플을 확인합니다.\n",
        "num_samples_to_check = 5\n",
        "\n",
        "print(\"Checking train_dataset samples:\")\n",
        "for i in range(min(num_samples_to_check, len(train_dataset))):\n",
        "    image, labels = train_dataset[i]\n",
        "    print(f\"Sample {i}: Image shape - {image.shape}, Labels - {labels}\")\n",
        "\n",
        "print(\"\\nChecking valid_dataset samples:\")\n",
        "for i in range(min(num_samples_to_check, len(valid_dataset))):\n",
        "    image, labels = valid_dataset[i]\n",
        "    print(f\"Sample {i}: Image shape - {image.shape}, Labels - {labels}\")\n",
        "\n",
        "print(\"\\nChecking test_dataset samples:\")\n",
        "for i in range(min(num_samples_to_check, len(test_dataset))):\n",
        "    image, labels = test_dataset[i]\n",
        "    print(f\"Sample {i}: Image shape - {image.shape}, Labels - {labels}\")"
      ]
    },
    {
      "cell_type": "code",
      "execution_count": null,
      "metadata": {
        "id": "nUyjtztushgi"
      },
      "outputs": [],
      "source": [
        "#이미지 메모리 제한 해제\n",
        "Image.MAX_IMAGE_PIXELS = None"
      ]
    },
    {
      "cell_type": "code",
      "execution_count": null,
      "metadata": {
        "id": "PUOvwfP3sn63",
        "colab": {
          "base_uri": "https://localhost:8080/"
        },
        "outputId": "3e861636-074b-41a2-a929-735ed21898e1"
      },
      "outputs": [
        {
          "output_type": "stream",
          "name": "stdout",
          "text": [
            "cuda\n"
          ]
        }
      ],
      "source": [
        "class SwinClassifier(nn.Module):\n",
        "    def __init__(self, num_classes=10):\n",
        "        super(SwinClassifier, self).__init__()\n",
        "        self.model = timm.create_model('swin_tiny_patch4_window7_224', pretrained=True, num_classes=num_classes)\n",
        "\n",
        "    def forward(self, x):\n",
        "        return self.model(x)\n",
        "\n",
        "# cuda check\n",
        "device = torch.device(\"cuda\" if torch.cuda.is_available() else \"cpu\")\n",
        "print(device)"
      ]
    },
    {
      "cell_type": "code",
      "execution_count": null,
      "metadata": {
        "id": "nrhblCUftttS",
        "colab": {
          "base_uri": "https://localhost:8080/"
        },
        "outputId": "95e42a98-87c3-4370-bd15-9141e0a9a336"
      },
      "outputs": [
        {
          "output_type": "stream",
          "name": "stdout",
          "text": [
            "train_dataset_us size: 7830\n",
            "steps per epoch: 245\n",
            "Checkpoint found. Resuming training from checkpoint...\n"
          ]
        },
        {
          "output_type": "stream",
          "name": "stderr",
          "text": []
        },
        {
          "output_type": "stream",
          "name": "stdout",
          "text": [
            "Epoch 21/25 - Train Loss: 0.0019, Train Acc: 0.9992 | Val Loss: 0.0780, Val Acc: 0.9832\n"
          ]
        },
        {
          "output_type": "stream",
          "name": "stderr",
          "text": []
        },
        {
          "output_type": "stream",
          "name": "stdout",
          "text": [
            "Epoch 22/25 - Train Loss: 0.0022, Train Acc: 0.9992 | Val Loss: 0.0824, Val Acc: 0.9828\n"
          ]
        },
        {
          "output_type": "stream",
          "name": "stderr",
          "text": []
        },
        {
          "output_type": "stream",
          "name": "stdout",
          "text": [
            "Epoch 23/25 - Train Loss: 0.0019, Train Acc: 0.9992 | Val Loss: 0.0824, Val Acc: 0.9847\n"
          ]
        },
        {
          "output_type": "stream",
          "name": "stderr",
          "text": []
        },
        {
          "output_type": "stream",
          "name": "stdout",
          "text": [
            "Epoch 24/25 - Train Loss: 0.0017, Train Acc: 0.9993 | Val Loss: 0.0864, Val Acc: 0.9835\n"
          ]
        },
        {
          "output_type": "stream",
          "name": "stderr",
          "text": []
        },
        {
          "output_type": "stream",
          "name": "stdout",
          "text": [
            "Epoch 25/25 - Train Loss: 0.0022, Train Acc: 0.9991 | Val Loss: 0.0782, Val Acc: 0.9824\n",
            "Training complete!\n"
          ]
        }
      ],
      "source": [
        "import random\n",
        "\n",
        "ImageFile.LOAD_TRUNCATED_IMAGES = True  # Allow loading truncated images\n",
        "\n",
        "random.seed(42)\n",
        "torch.manual_seed(42)\n",
        "if torch.cuda.is_available():\n",
        "    torch.cuda.manual_seed_all(42)\n",
        "\n",
        "# Set DataLoader parameters; using num_workers=0 for TPU stability\n",
        "BATCH_SIZE = 32\n",
        "train_loader = DataLoader(train_dataset, batch_size=BATCH_SIZE, shuffle=True, num_workers=0)\n",
        "val_loader = DataLoader(valid_dataset, batch_size=BATCH_SIZE, shuffle=False, num_workers=0)\n",
        "\n",
        "print(f\"train_dataset_us size: {len(train_dataset)}\")\n",
        "print(f\"steps per epoch: {len(train_loader)}\")\n",
        "\n",
        "# Training hyperparameters\n",
        "EPOCHS = 25\n",
        "PATIENCE = 5\n",
        "num_classes = 10\n",
        "\n",
        "train_accuracies = []\n",
        "val_accuracies = []\n",
        "\n",
        "# Define your model, loss, optimizer, and scheduler\n",
        "model = SwinClassifier(num_classes=10).to(device)\n",
        "criterion = nn.BCEWithLogitsLoss()\n",
        "optimizer = optim.AdamW(model.parameters(), lr=0.0002, weight_decay=1e-4)\n",
        "scheduler = optim.lr_scheduler.CosineAnnealingLR(optimizer, T_max=EPOCHS, eta_min=1e-5)\n",
        "\n",
        "# Checkpoint file path\n",
        "checkpoint_file = \"checkpoint_acne.pth\"\n",
        "# checkpoint_file = \"/content/gdrive/MyDrive/best_swin_model.pth\"\n",
        "# Initialize or resume training variables\n",
        "start_epoch = 0\n",
        "if os.path.exists(checkpoint_file):\n",
        "    print(\"Checkpoint found. Resuming training from checkpoint...\")\n",
        "    # Load checkpoint to CPU first, then move state to TPU\n",
        "    checkpoint = torch.load(checkpoint_file, map_location=torch.device(\"cpu\"))\n",
        "    model.load_state_dict(checkpoint['model_state_dict'])\n",
        "    optimizer.load_state_dict(checkpoint['optimizer_state_dict'])\n",
        "    scheduler.load_state_dict(checkpoint['scheduler_state_dict'])\n",
        "    start_epoch = checkpoint['epoch'] + 1\n",
        "    best_val_acc = checkpoint.get('best_val_acc', 0.0)\n",
        "    epochs_no_improve = checkpoint['epochs_no_improve']\n",
        "    train_losses = checkpoint.get('train_losses', [])\n",
        "    val_losses = checkpoint.get('val_losses', [])\n",
        "    train_accuracies = checkpoint.get('train_accuracies', [])\n",
        "    val_accuracies = checkpoint.get('val_accuracies', [])\n",
        "    # Move the model to the TPU device\n",
        "    model.to(device)\n",
        "else:\n",
        "    best_val_acc = 0.0\n",
        "    epochs_no_improve = 0\n",
        "    train_losses, val_losses = [], []\n",
        "    train_accuracies, val_accuracies = [], []\n",
        "\n",
        "for epoch in range(start_epoch, EPOCHS):\n",
        "    model.train()\n",
        "    train_loss = 0.0\n",
        "    correct = 0\n",
        "    total = 0\n",
        "    iteration = 0\n",
        "\n",
        "# Training loop with a progress bar\n",
        "    train_pbar = tqdm(train_loader, desc=f\"Epoch {epoch+1}/{EPOCHS} Training\", leave=False)\n",
        "    for images, labels in train_pbar:\n",
        "        iteration += 1\n",
        "        images, labels = images.to(device), labels.to(device)\n",
        "\n",
        "        optimizer.zero_grad()\n",
        "        outputs = model(images)\n",
        "        loss = criterion(outputs, labels)\n",
        "\n",
        "        loss.backward()\n",
        "        optimizer.step()\n",
        "\n",
        "        batch_size = images.size(0)\n",
        "        train_loss += loss.item() * batch_size\n",
        "\n",
        "        # 멀티 라벨 정확도 계산\n",
        "        # 1. 모델 출력에 Sigmoid 적용하여 확률 값으로 변환\n",
        "        probabilities = torch.sigmoid(outputs)\n",
        "        # 2. 임계값 (0.5) 기준으로 이진 예측\n",
        "        predicted = (probabilities > 0.5).float()\n",
        "        # 3. 예측 결과와 실제 라벨 비교하여 정확도 계산\n",
        "        # 모든 라벨이 일치하는 경우만 정확하게 예측했다고 판단\n",
        "        # all_equal = torch.all(predicted == labels, dim=1).sum().item() # 엄격한 정확도\n",
        "        # 각 라벨별 정확도 평균을 계산하거나 다른 멀티 라벨 지표 사용\n",
        "        correct_predictions = (predicted == labels).sum().item()\n",
        "        total_elements = labels.numel() # 전체 라벨 요소의 개수\n",
        "\n",
        "        # correct += all_equal # 엄격한 정확도 누적\n",
        "        correct += correct_predictions # 전체 예측 중 맞는 예측의 개수\n",
        "        total += total_elements # 전체 라벨 요소의 총 개수 (batch_size * num_classes)\n",
        "\n",
        "\n",
        "        train_pbar.set_postfix({\n",
        "            \"Batch Loss\": f\"{loss.item():.4f}\",\n",
        "            \"Avg Loss\": f\"{train_loss/total_elements:.4f}\", # 손실은 전체 라벨 요소 개수로 평균\n",
        "            \"Acc\": f\"{correct/total:.4f}\" # 정확도는 전체 라벨 요소 개수 대비 맞는 예측의 비율\n",
        "        })\n",
        "\n",
        "    epoch_train_loss = train_loss / (total / num_classes) if total > 0 else 0 # 배치 개수로 나누어 에포크 손실 계산\n",
        "    train_losses.append(epoch_train_loss)\n",
        "    train_acc = correct / total if total > 0 else 0 # 정확도 계산\n",
        "\n",
        "    model.eval()\n",
        "    val_loss = 0.0\n",
        "    correct_val = 0\n",
        "    total_val = 0\n",
        "    val_pbar = tqdm(val_loader, desc=f\"Epoch {epoch+1}/{EPOCHS} Validation\", leave=False)\n",
        "    with torch.no_grad():\n",
        "        for images, labels in val_pbar:\n",
        "            images, labels = images.to(device), labels.to(device)\n",
        "            outputs = model(images)\n",
        "            loss = criterion(outputs, labels)\n",
        "\n",
        "            batch_size = images.size(0)\n",
        "            val_loss += loss.item() * batch_size\n",
        "\n",
        "            # 멀티 라벨 정확도 계산 (검증)\n",
        "            # 1. 모델 출력에 Sigmoid 적용하여 확률 값으로 변환\n",
        "            probabilities = torch.sigmoid(outputs)\n",
        "            # 2. 임계값 (0.5) 기준으로 이진 예측\n",
        "            predicted = (probabilities > 0.5).float()\n",
        "            # 3. 예측 결과와 실제 라벨 비교하여 정확도 계산\n",
        "            correct_predictions_val = (predicted == labels).sum().item()\n",
        "            total_elements_val = labels.numel()\n",
        "\n",
        "            correct_val += correct_predictions_val\n",
        "            total_val += total_elements_val\n",
        "\n",
        "            val_pbar.set_postfix({\n",
        "                \"Batch Loss\": f\"{loss.item():.4f}\",\n",
        "                \"Avg Loss\": f\"{val_loss/total_elements_val:.4f}\", # 손실은 전체 라벨 요소 개수로 평균\n",
        "                \"Acc\": f\"{correct_val/total_val:.4f}\" # 정확도는 전체 라벨 요소 개수 대비 맞는 예측의 비율\n",
        "            })\n",
        "\n",
        "    epoch_val_loss = val_loss / (total_val / num_classes) if total_val > 0 else 0 # 배치 개수로 나누어 에포크 손실 계산\n",
        "    val_losses.append(epoch_val_loss)\n",
        "    val_acc = correct_val / total_val if total_val > 0 else 0 # 정확도 계산\n",
        "\n",
        "    print(f\"Epoch {epoch+1}/{EPOCHS} - Train Loss: {epoch_train_loss:.4f}, Train Acc: {train_acc:.4f} | \"\n",
        "          f\"Val Loss: {epoch_val_loss:.4f}, Val Acc: {val_acc:.4f}\")\n",
        "\n",
        "    train_accuracies.append(train_acc)\n",
        "    val_accuracies.append(val_acc)\n",
        "\n",
        "    # Save checkpoint after every epoch\n",
        "    checkpoint = {\n",
        "        'epoch': epoch,\n",
        "        'model_state_dict': model.state_dict(),\n",
        "        'optimizer_state_dict': optimizer.state_dict(),\n",
        "        'scheduler_state_dict': scheduler.state_dict(),\n",
        "        'best_val_acc': best_val_acc,\n",
        "        'epochs_no_improve': epochs_no_improve,\n",
        "        'train_losses': train_losses,\n",
        "        'val_losses': val_losses,\n",
        "        'train_accuracies': train_accuracies,\n",
        "        'val_accuracies': val_accuracies,\n",
        "    }\n",
        "    torch.save(checkpoint, checkpoint_file)\n",
        "    # Also save a separate model file for each epoch if desired\n",
        "    torch.save(model.state_dict(), f\"model_epoch_{epoch+1}.pth\")\n",
        "\n",
        "    # Early stopping check\n",
        "    if val_acc > best_val_acc:\n",
        "        best_val_acc = val_acc\n",
        "        epochs_no_improve = 0\n",
        "        torch.save(model.state_dict(), \"best_Acne_swin_model.pth\")  # Save best model separately\n",
        "    else:\n",
        "        epochs_no_improve += 1\n",
        "        if epochs_no_improve >= PATIENCE:\n",
        "            print(\"Early stopping triggered. Training stopped.\")\n",
        "            break\n",
        "\n",
        "    scheduler.step()\n",
        "    # print(met.metrics_report())\n",
        "\n",
        "print(\"Training complete!\")"
      ]
    },
    {
      "cell_type": "code",
      "source": [
        "import matplotlib.pyplot as plt\n",
        "\n",
        "epochs_range = range(1, len(train_losses) + 1)\n",
        "\n",
        "plt.figure(figsize=(10, 5))\n",
        "plt.plot(epochs_range, train_losses, label='Train Loss')\n",
        "plt.plot(epochs_range, val_losses, label='Validation Loss')\n",
        "plt.xlabel('Epoch')\n",
        "plt.ylabel('Loss')\n",
        "plt.title('Training and Validation Loss')\n",
        "plt.legend()\n",
        "plt.grid(True)\n",
        "plt.tight_layout()\n",
        "plt.show()\n",
        "\n",
        "plt.figure(figsize=(10, 5))\n",
        "plt.plot(epochs_range, train_accuracies, label='Train Accuracy')\n",
        "plt.plot(epochs_range, val_accuracies, label='Validation Accuracy')\n",
        "plt.xlabel('Epoch')\n",
        "plt.ylabel('Accuracy')\n",
        "plt.title('Training and Validation Accuracy')\n",
        "plt.legend()\n",
        "plt.grid(True)\n",
        "plt.tight_layout()\n",
        "plt.show()\n"
      ],
      "metadata": {
        "id": "DfU7Le4f6iu4",
        "colab": {
          "base_uri": "https://localhost:8080/",
          "height": 997
        },
        "outputId": "924284ba-45c7-42a8-f5a2-adcb6679f75f"
      },
      "execution_count": null,
      "outputs": [
        {
          "output_type": "display_data",
          "data": {
            "text/plain": [
              "<Figure size 1000x500 with 1 Axes>"
            ],
            "image/png": "[encoded data removed]"
          },
          "metadata": {}
        },
        {
          "output_type": "display_data",
          "data": {
            "text/plain": [
              "<Figure size 1000x500 with 1 Axes>"
            ],
            "image/png": "[encoded data removed]"
          },
          "metadata": {}
        }
      ]
    },
    {
      "cell_type": "code",
      "execution_count": null,
      "metadata": {
        "id": "nqv2vfCIXl6C",
        "colab": {
          "base_uri": "https://localhost:8080/"
        },
        "outputId": "c112fcd6-6792-459d-c7c6-d098e057b79b"
      },
      "outputs": [
        {
          "output_type": "stream",
          "name": "stderr",
          "text": [
            "                                                                         "
          ]
        },
        {
          "output_type": "stream",
          "name": "stdout",
          "text": [
            "Test Loss: 0.0046, Test Accuracy: 0.9912, F1 Score: 0.9868\n",
            "Confusion Matrix per Class and Class Accuracy:\n",
            "Class: Pimples\n",
            "[[ 34   0]\n",
            " [  0 182]]\n",
            "Accuracy: 1.0000\n",
            "\n",
            "Class: blackhead\n",
            "[[150   1]\n",
            " [  1  64]]\n",
            "Accuracy: 0.9907\n",
            "\n",
            "Class: conglobata\n",
            "[[214   0]\n",
            " [  1   1]]\n",
            "Accuracy: 0.9954\n",
            "\n",
            "Class: crystanlline\n",
            "[[199   0]\n",
            " [  5  12]]\n",
            "Accuracy: 0.9769\n",
            "\n",
            "Class: cystic\n",
            "[[178   1]\n",
            " [  0  37]]\n",
            "Accuracy: 0.9954\n",
            "\n",
            "Class: folliculitis\n",
            "[[197   0]\n",
            " [  3  16]]\n",
            "Accuracy: 0.9861\n",
            "\n",
            "Class: keloid\n",
            "[[196   0]\n",
            " [  1  19]]\n",
            "Accuracy: 0.9954\n",
            "\n",
            "Class: milium\n",
            "[[194   0]\n",
            " [  1  21]]\n",
            "Accuracy: 0.9954\n",
            "\n",
            "Class: papular\n",
            "[[ 85   1]\n",
            " [  0 130]]\n",
            "Accuracy: 0.9954\n",
            "\n",
            "Class: purulent\n",
            "[[ 95   2]\n",
            " [  2 117]]\n",
            "Accuracy: 0.9815\n",
            "\n"
          ]
        },
        {
          "output_type": "stream",
          "name": "stderr",
          "text": [
            "\r"
          ]
        }
      ],
      "source": [
        "import torch\n",
        "import torch.nn as nn\n",
        "from torch.utils.data import DataLoader\n",
        "from tqdm import tqdm\n",
        "from torchvision import transforms\n",
        "from PIL import ImageFile\n",
        "from sklearn.metrics import f1_score, multilabel_confusion_matrix\n",
        "import numpy as np\n",
        "\n",
        "# Assume that test_dataset and your model class SwinClassifier are already defined\n",
        "BATCH_SIZE = 32\n",
        "test_loader = DataLoader(test_dataset, batch_size=BATCH_SIZE, shuffle=False, num_workers=0)\n",
        "\n",
        "checkpoint_path = \"best_Acne_swin_model.pth\"\n",
        "#checkpoint_path = \"/content/drive/MyDrive/AI Project I/best_Acne_swin_model.pth\"\n",
        "\n",
        "model = SwinClassifier(num_classes=10)  # Create an instance of your model\n",
        "# 파일에서 state_dict를 직접 로드합니다.\n",
        "model.load_state_dict(torch.load(checkpoint_path))\n",
        "model.to(device)\n",
        "model.eval()\n",
        "\n",
        "# Define the loss function (if you want to compute test loss)\n",
        "criterion = nn.BCEWithLogitsLoss()\n",
        "\n",
        "# Run testing/inference\n",
        "correct = 0\n",
        "total = 0\n",
        "test_loss = 0.0\n",
        "all_preds = []\n",
        "all_labels = []\n",
        "\n",
        "test_pbar = tqdm(test_loader, desc=\"Testing\", leave=False)\n",
        "with torch.no_grad():\n",
        "    for images, labels in test_pbar:\n",
        "        images, labels = images.to(device), labels.to(device)\n",
        "        outputs = model(images)\n",
        "        loss = criterion(outputs, labels.float())\n",
        "\n",
        "        batch_size = images.size(0)\n",
        "        test_loss += loss.item() * batch_size\n",
        "        probabilities = torch.sigmoid(outputs)\n",
        "        predicted = (probabilities > 0.5).float()\n",
        "        correct += (predicted == labels).sum().item()\n",
        "        total += predicted.numel()\n",
        "\n",
        "        all_preds.extend(predicted.cpu().numpy())\n",
        "        all_labels.extend(labels.cpu().numpy())\n",
        "\n",
        "        test_pbar.set_postfix({\"Batch Loss\": f\"{loss.item():.4f}\"})\n",
        "\n",
        "avg_loss = test_loss / total if total > 0 else 0\n",
        "accuracy = correct / total if total > 0 else 0\n",
        "\n",
        "# Calculate F1 score and confusion matrix\n",
        "f1 = f1_score(all_labels, all_preds, average='samples')  # or 'binary' for binary classification\n",
        "conf_matrix_per_class = multilabel_confusion_matrix(all_labels, all_preds)\n",
        "class_names = test_dataset.classes\n",
        "print(f\"Test Loss: {avg_loss:.4f}, Test Accuracy: {accuracy:.4f}, F1 Score: {f1:.4f}\")\n",
        "print(\"Confusion Matrix per Class and Class Accuracy:\")\n",
        "for i, cm in enumerate(conf_matrix_per_class):\n",
        "    tp = cm[1][1]  # True Positive\n",
        "    fn = cm[1][0]  # False Negative\n",
        "    fp = cm[0][1]  # False Positive\n",
        "    tn = cm[0][0]  # True Negative\n",
        "\n",
        "    # 정확도 계산: (TP + TN) / (TP + TN + FP + FN)\n",
        "    accuracy = (tp + tn) / (tp + tn + fp + fn) if (tp + tn + fp + fn) > 0 else 0\n",
        "\n",
        "    # 클래스별 confusion matrix와 정확도 출력\n",
        "    print(f\"Class: {class_names[i]}\")\n",
        "    print(cm)\n",
        "    print(f\"Accuracy: {accuracy:.4f}\")\n",
        "    print()"
      ]
    }
  ],
  "metadata": {
    "accelerator": "GPU",
    "colab": {
      "gpuType": "T4",
      "provenance": []
    },
    "kernelspec": {
      "display_name": "Python 3",
      "name": "python3"
    },
    "language_info": {
      "codemirror_mode": {
        "name": "ipython",
        "version": 3
      },
      "file_extension": ".py",
      "mimetype": "text/x-python",
      "name": "python",
      "nbconvert_exporter": "python",
      "pygments_lexer": "ipython3",
      "version": "3.11.11"
    }
  },
  "nbformat": 4,
  "nbformat_minor": 0
}